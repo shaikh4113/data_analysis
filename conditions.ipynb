{
 "cells": [
  {
   "cell_type": "markdown",
   "metadata": {},
   "source": [
    "# conditions\n",
    "\n",
    "### indentation\n",
    "indentation is the way to tell python that a block of code is related to a control structure. this is done by indenting the code with a tab or 4 spaces. the indentation is removed when the block ends."
   ]
  },
  {
   "cell_type": "markdown",
   "metadata": {},
   "source": [
    "'''\n",
    "if condition:\n",
    "    #code\n",
    "\n",
    "else:\n",
    "    #code\n",
    "\n",
    "elif condition:\n",
    "    #code\n",
    "\n",
    "match value:\n",
    "    #code\n",
    "\n",
    "for expressions:\n",
    "    #code\n",
    "\n",
    "class Classname:\n",
    "    #code\n",
    "    \n",
    "'''"
   ]
  },
  {
   "cell_type": "code",
   "execution_count": 1,
   "metadata": {},
   "outputs": [
    {
     "name": "stdout",
     "output_type": "stream",
     "text": [
      "x is greater than 3\n"
     ]
    }
   ],
   "source": [
    "x = 10\n",
    "if x > 3:\n",
    "    print('x is greater than 3')"
   ]
  },
  {
   "cell_type": "code",
   "execution_count": 2,
   "metadata": {},
   "outputs": [],
   "source": [
    "if x < x -3:\n",
    "    print('x is less than x - 3')"
   ]
  },
  {
   "cell_type": "code",
   "execution_count": 3,
   "metadata": {},
   "outputs": [
    {
     "name": "stdout",
     "output_type": "stream",
     "text": [
      "x is equal to 10\n",
      "x is greater than 10\n"
     ]
    }
   ],
   "source": [
    "if x == 5:\n",
    "    print('x is equal to 5')\n",
    "if x == 10:\n",
    "    print('x is equal to 10')\n",
    "if x >= 10:\n",
    "    print('x is greater than 10')"
   ]
  },
  {
   "cell_type": "code",
   "execution_count": 4,
   "metadata": {},
   "outputs": [
    {
     "name": "stdout",
     "output_type": "stream",
     "text": [
      "Login successful\n"
     ]
    }
   ],
   "source": [
    "username = input(\"enter username\")\n",
    "password = input(\"enter password\")\n",
    "if len(username):\n",
    "    if len(password):\n",
    "        if username == 'Alex' and password == 'Alexa':\n",
    "            print(\"Login successful\")"
   ]
  },
  {
   "cell_type": "code",
   "execution_count": 1,
   "metadata": {},
   "outputs": [
    {
     "name": "stdout",
     "output_type": "stream",
     "text": [
      "✅Login successful\n"
     ]
    }
   ],
   "source": [
    "username = input(\"enter username\")\n",
    "password = input(\"enter password\")\n",
    "if len(username):\n",
    "    if len(password):\n",
    "        if username == 'Alex' and password == 'Alexa':\n",
    "            print(\"✅Login successful\")\n",
    "        else:\n",
    "            print(\"❌Login failed\")\n",
    "    else:\n",
    "        print(\"🔑password is empty\")\n",
    "else:\n",
    "    print(\"👤Username is empty\")"
   ]
  },
  {
   "cell_type": "code",
   "execution_count": 7,
   "metadata": {},
   "outputs": [
    {
     "name": "stdout",
     "output_type": "stream",
     "text": [
      "I have no day off 😭\n"
     ]
    }
   ],
   "source": [
    "offday = input(\"enter your off day: \")\n",
    "match(offday):\n",
    "    case'Sunday' :\n",
    "        print(\"Sunday is my day off\")\n",
    "    case 'Monday':\n",
    "        print('Monday is my off day')\n",
    "    case 'Tuesday':\n",
    "        print('Tuesday is my day off')\n",
    "    case 'wednesday':\n",
    "        print('Wdnesday is my day off')\n",
    "    case 'Thursday':\n",
    "        print('Thursday is my day off')\n",
    "    case 'Friday':\n",
    "        print('Friday is my day off')\n",
    "    case 'Saturday':\n",
    "        print('Saturday is my day off')\n",
    "    case _:\n",
    "        print('I have no day off 😭')"
   ]
  },
  {
   "cell_type": "code",
   "execution_count": null,
   "metadata": {},
   "outputs": [],
   "source": [
    "print('What kind of ice-cream flavour would you like?')\n",
    "print(f'1. chocolate')\n",
    "print(f'2. Vanilla')\n",
    "print(f'3. Strawberry')\n",
    "print(f'4. Fruit n nut')\n",
    "choice = input('Enter your choice: ')\n",
    "match choice:\n",
    "    case 'chocolate':\n",
    "        cost = 35\n",
    "    case 'vanilla':\n",
    "        cost = 20\n",
    "    case 'Strawberry':\n",
    "        cost = 25\n",
    "    case 'Fruit n nut':\n",
    "        cost = 30\n",
    "    case _:\n",
    "        print('Flavour not available')\n",
    "        cost = 0\n",
    "print(f'you have selected {choice} flavour')\n",
    "print(f'you have to pay{cost} rupees')"
   ]
  },
  {
   "cell_type": "code",
   "execution_count": 2,
   "metadata": {},
   "outputs": [
    {
     "name": "stdout",
     "output_type": "stream",
     "text": [
      "you have to pay 400.0 rupees\n"
     ]
    }
   ],
   "source": [
    "weight = float(input('how much apple doyou want(kg)'))\n",
    "if weight == 1: price = 110\n",
    "elif weight >= 2 and weight <= 5: price = 100 * weight\n",
    "elif weight >= 6 : price = 80 * weight \n",
    "print(f'you have to pay {price} rupees')"
   ]
  },
  {
   "cell_type": "code",
   "execution_count": 4,
   "metadata": {},
   "outputs": [
    {
     "name": "stdout",
     "output_type": "stream",
     "text": [
      "x is odd\n"
     ]
    }
   ],
   "source": [
    "x = 19\n",
    "print('x is even') if x %2 == 0 else print('x is odd')"
   ]
  }
 ],
 "metadata": {
  "kernelspec": {
   "display_name": "Python 3.11.4 ('base')",
   "language": "python",
   "name": "python3"
  },
  "language_info": {
   "codemirror_mode": {
    "name": "ipython",
    "version": 3
   },
   "file_extension": ".py",
   "mimetype": "text/x-python",
   "name": "python",
   "nbconvert_exporter": "python",
   "pygments_lexer": "ipython3",
   "version": "3.11.4"
  },
  "orig_nbformat": 4,
  "vscode": {
   "interpreter": {
    "hash": "4fd43f647e67c5bac92e28557b42152749fead6d7b9e8c70c84aca8e8e2f23dd"
   }
  }
 },
 "nbformat": 4,
 "nbformat_minor": 2
}
