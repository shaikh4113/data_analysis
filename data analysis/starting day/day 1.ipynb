{
 "cells": [
  {
   "cell_type": "code",
   "execution_count": null,
   "metadata": {},
   "outputs": [],
   "source": []
  },
  {
   "cell_type": "markdown",
   "metadata": {},
   "source": [
    "# for loop"
   ]
  },
  {
   "cell_type": "code",
   "execution_count": 1,
   "metadata": {},
   "outputs": [
    {
     "name": "stdout",
     "output_type": "stream",
     "text": [
      "apple\n",
      "banana\n",
      "cherry\n"
     ]
    }
   ],
   "source": [
    "fruits = ['apple','banana','cherry']\n",
    "for x in fruits:\n",
    "    print(x)"
   ]
  },
  {
   "cell_type": "markdown",
   "metadata": {},
   "source": [
    "# looping through string"
   ]
  },
  {
   "cell_type": "code",
   "execution_count": 2,
   "metadata": {},
   "outputs": [
    {
     "name": "stdout",
     "output_type": "stream",
     "text": [
      "b\n",
      "a\n",
      "n\n",
      "a\n",
      "n\n",
      "a\n"
     ]
    }
   ],
   "source": [
    "for x in \"banana\":\n",
    "    print(x)\n"
   ]
  },
  {
   "cell_type": "markdown",
   "metadata": {},
   "source": []
  },
  {
   "cell_type": "code",
   "execution_count": 3,
   "metadata": {},
   "outputs": [
    {
     "name": "stdout",
     "output_type": "stream",
     "text": [
      "0\n",
      "1\n",
      "2\n",
      "3\n",
      "4\n",
      "5\n",
      "6\n",
      "7\n",
      "8\n",
      "9\n",
      "10\n",
      "11\n",
      "12\n",
      "13\n",
      "14\n",
      "15\n",
      "16\n",
      "17\n",
      "18\n",
      "19\n",
      "20\n",
      "21\n",
      "22\n",
      "23\n",
      "24\n"
     ]
    }
   ],
   "source": [
    "for x in range(25):\n",
    "    print(x)\n"
   ]
  },
  {
   "cell_type": "code",
   "execution_count": 4,
   "metadata": {},
   "outputs": [
    {
     "name": "stdout",
     "output_type": "stream",
     "text": [
      "3\n",
      "4\n",
      "5\n",
      "6\n",
      "7\n",
      "8\n",
      "9\n",
      "10\n",
      "11\n",
      "12\n",
      "13\n",
      "14\n",
      "15\n",
      "16\n",
      "17\n",
      "18\n",
      "19\n",
      "20\n",
      "21\n",
      "22\n",
      "23\n",
      "24\n"
     ]
    }
   ],
   "source": [
    "for x in range(3,25):\n",
    "    print(x)\n"
   ]
  },
  {
   "cell_type": "code",
   "execution_count": 3,
   "metadata": {},
   "outputs": [],
   "source": [
    "'''\n",
    "Password Strength Checker\n",
    "-------------------------------------------------------------\n",
    "'''\n",
    "\n",
    "\n",
    "import string\n",
    "import getpass\n",
    "\n",
    "\n",
    "def check_password_strength():\n",
    "   password = getpass.getpass('Enter the password: ')\n",
    "   strength = 0\n",
    "   remarks = ''\n",
    "   lower_count = upper_count = num_count = wspace_count = special_count = 0\n",
    "\n",
    "   for char in list(password):\n",
    "       if char in string.ascii_lowercase:\n",
    "           lower_count += 1\n",
    "       elif char in string.ascii_uppercase:\n",
    "           upper_count += 1\n",
    "       elif char in string.digits:\n",
    "           num_count += 1\n",
    "       elif char == ' ':\n",
    "           wspace_count += 1\n",
    "       else:\n",
    "           special_count += 1\n",
    "\n",
    "   if lower_count >= 1:\n",
    "       strength += 1\n",
    "   if upper_count >= 1:\n",
    "       strength += 1\n",
    "   if num_count >= 1:\n",
    "       strength += 1\n",
    "   if wspace_count >= 1:\n",
    "       strength += 1\n",
    "   if special_count >= 1:\n",
    "       strength += 1\n",
    "\n",
    "   if strength == 1:\n",
    "       remarks = ('That\\'s a very bad password.'\n",
    "           ' Change it as soon as possible.')\n",
    "   elif strength == 2:\n",
    "       remarks = ('That\\'s a weak password.'\n",
    "           ' You should consider using a tougher password.')\n",
    "   elif strength == 3:\n",
    "       remarks = 'Your password is okay, but it can be improved.'\n",
    "   elif strength == 4:\n",
    "       remarks = ('Your password is hard to guess.'\n",
    "           ' But you could make it even more secure.')\n",
    "   elif strength == 5:\n",
    "       remarks = ('Now that\\'s one hell of a strong password!!!'\n",
    "           ' Hackers don\\'t have a chance guessing that password!')\n",
    "\n",
    "   print('Your password has:-')\n",
    "   print(f'{lower_count} lowercase letters')\n",
    "   print(f'{upper_count} uppercase letters')\n",
    "   print(f'{num_count} digits')\n",
    "   print(f'{wspace_count} whitespaces')\n",
    "   print(f'{special_count} special characters')\n",
    "   print(f'Password Score: {strength / 5}')\n",
    "   print(f'Remarks: {remarks}')\n",
    "\n",
    "\n",
    "def check_pwd(another_pw=False):\n",
    "   valid = False\n",
    "   if another_pw:\n",
    "       choice = input(\n",
    "           'Do you want to check another password\\'s strength (y/n) : ')\n",
    "   else:\n",
    "       choice = input(\n",
    "           'Do you want to check your password\\'s strength (y/n) : ')\n",
    "\n",
    "   while not valid:\n",
    "       if choice.lower() == 'y':\n",
    "           return True\n",
    "       elif choice.lower() == 'n':\n",
    "           print('Exiting...')\n",
    "           return False\n",
    "       else:\n",
    "           print('Invalid input...please try again. \\n')\n",
    "\n",
    "\n",
    "if __name__ == '_main_':\n",
    "   print('===== Welcome to Password Strength Checker =====')\n",
    "   check_pw = check_pwd()\n",
    "   while check_pw:\n",
    "       check_password_strength()\n",
    "       check_pw = check_pwd(True)\n",
    "\n",
    "       "
   ]
  },
  {
   "cell_type": "code",
   "execution_count": null,
   "metadata": {},
   "outputs": [],
   "source": []
  },
  {
   "cell_type": "markdown",
   "metadata": {},
   "source": []
  },
  {
   "cell_type": "code",
   "execution_count": null,
   "metadata": {},
   "outputs": [],
   "source": []
  }
 ],
 "metadata": {
  "kernelspec": {
   "display_name": "base",
   "language": "python",
   "name": "python3"
  },
  "language_info": {
   "codemirror_mode": {
    "name": "ipython",
    "version": 3
   },
   "file_extension": ".py",
   "mimetype": "text/x-python",
   "name": "python",
   "nbconvert_exporter": "python",
   "pygments_lexer": "ipython3",
   "version": "3.11.5"
  }
 },
 "nbformat": 4,
 "nbformat_minor": 2
}
