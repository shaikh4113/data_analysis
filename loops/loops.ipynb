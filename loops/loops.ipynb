{
 "cells": [
  {
   "cell_type": "markdown",
   "metadata": {},
   "source": [
    "loops\n",
    "- for loop\n",
    "- loop concepts\n",
    "    - break\n",
    "    - continue\n",
    "    - else\n",
    "    - enumerate\n",
    "    - zip\n",
    "- while"
   ]
  },
  {
   "cell_type": "markdown",
   "metadata": {},
   "source": [
    "for loop syntax\n",
    "```python\n",
    "for temp_var on iterable:\n",
    "    statement1\n",
    "    statement2\n",
    "```"
   ]
  },
  {
   "cell_type": "code",
   "execution_count": 1,
   "metadata": {},
   "outputs": [
    {
     "name": "stdout",
     "output_type": "stream",
     "text": [
      "red\n",
      "green\n",
      "blue\n",
      "black\n",
      "white\n"
     ]
    }
   ],
   "source": [
    "colors = ['red', 'green', 'blue', 'black', 'white']\n",
    "for color in colors:\n",
    "    print(color)"
   ]
  },
  {
   "cell_type": "code",
   "execution_count": 3,
   "metadata": {},
   "outputs": [
    {
     "name": "stdout",
     "output_type": "stream",
     "text": [
      "red        3 chars\n",
      "green      5 chars\n",
      "blue       4 chars\n",
      "black      5 chars\n",
      "white      5 chars\n"
     ]
    }
   ],
   "source": [
    "for color in colors:\n",
    "    size = len(color)\n",
    "    print(f'{color:10} {size} chars')"
   ]
  },
  {
   "cell_type": "code",
   "execution_count": 4,
   "metadata": {},
   "outputs": [
    {
     "name": "stdout",
     "output_type": "stream",
     "text": [
      "red\n",
      "green\n",
      "blue\n",
      "white\n"
     ]
    }
   ],
   "source": [
    "for color in colors:\n",
    "    if 'e' in color:\n",
    "        print(color)"
   ]
  },
  {
   "cell_type": "code",
   "execution_count": 7,
   "metadata": {},
   "outputs": [
    {
     "name": "stdout",
     "output_type": "stream",
     "text": [
      "Alex\n",
      "Rahul\n",
      "Sonu\n",
      "Monu\n",
      "\n",
      "Raj\n",
      "\n",
      "\n"
     ]
    }
   ],
   "source": [
    "raw_data = ['Alex', 'Rahul', 'Sonu', 'Monu', '', 'Raj', '', '']\n",
    "for names in raw_data:\n",
    "    print(names)"
   ]
  },
  {
   "cell_type": "code",
   "execution_count": 14,
   "metadata": {},
   "outputs": [
    {
     "name": "stdout",
     "output_type": "stream",
     "text": [
      "Alex\n",
      "Rahul\n",
      "Sonu\n",
      "Monu\n",
      "Raj\n"
     ]
    }
   ],
   "source": [
    "for name in raw_data:\n",
    "    if len(name)> 0:\n",
    "        print(name)"
   ]
  },
  {
   "cell_type": "code",
   "execution_count": 12,
   "metadata": {},
   "outputs": [
    {
     "name": "stdout",
     "output_type": "stream",
     "text": [
      "Alex\n",
      "Rahul\n",
      "Sonu\n",
      "Monu\n",
      "Raj\n"
     ]
    }
   ],
   "source": [
    "for name in raw_data:\n",
    "    if not name:\n",
    "        continue\n",
    "    print(name)"
   ]
  },
  {
   "cell_type": "code",
   "execution_count": 16,
   "metadata": {},
   "outputs": [
    {
     "name": "stdout",
     "output_type": "stream",
     "text": [
      "2\n",
      "4\n"
     ]
    }
   ],
   "source": [
    "numbers = [2,4,7,6,156,67,98,76,45,55,34,65,90]\n",
    "for i in numbers:\n",
    "    if i % 2 != 0:\n",
    "        break\n",
    "    print(i)"
   ]
  },
  {
   "cell_type": "markdown",
   "metadata": {},
   "source": [
    "aggregation logic"
   ]
  },
  {
   "cell_type": "code",
   "execution_count": 18,
   "metadata": {},
   "outputs": [
    {
     "name": "stdout",
     "output_type": "stream",
     "text": [
      "2\n",
      "8\n",
      "56\n",
      "336\n",
      "52416\n",
      "3511872\n",
      "344163456\n",
      "26156422656\n",
      "1177039019520\n",
      "64737146073600\n",
      "2201062966502400\n",
      "143069092822656000\n",
      "12876218354039040000\n"
     ]
    }
   ],
   "source": [
    "total = 1\n",
    "for i in numbers:\n",
    "    total *= i\n",
    "    print(total)"
   ]
  },
  {
   "cell_type": "code",
   "execution_count": 19,
   "metadata": {},
   "outputs": [
    {
     "name": "stdout",
     "output_type": "stream",
     "text": [
      "0 space found\n",
      "0 space found\n",
      "0 space found\n",
      "0 space found\n",
      "1 space found\n",
      "1 space found\n",
      "1 space found\n",
      "2 space found\n",
      "2 space found\n",
      "3 space found\n",
      "3 space found\n",
      "3 space found\n",
      "3 space found\n",
      "3 space found\n",
      "3 space found\n",
      "3 space found\n",
      "4 space found\n",
      "4 space found\n",
      "4 space found\n",
      "4 space found\n",
      "4 space found\n",
      "4 space found\n",
      "4 space found\n",
      "4 space found\n",
      "5 space found\n",
      "5 space found\n",
      "5 space found\n",
      "5 space found\n",
      "5 space found\n",
      "6 space found\n",
      "6 space found\n",
      "6 space found\n",
      "6 space found\n",
      "7 space found\n",
      "7 space found\n",
      "7 space found\n",
      "7 space found\n",
      "7 space found\n",
      "7 space found\n"
     ]
    }
   ],
   "source": [
    "msg = 'This is a simple message wiyh few words'\n",
    "#count the number of space using loop\n",
    "count = 0\n",
    "for char in msg:\n",
    "    if char == ' ':\n",
    "        count += 1\n",
    "    print(f'{count} space found')"
   ]
  },
  {
   "cell_type": "code",
   "execution_count": 20,
   "metadata": {},
   "outputs": [
    {
     "data": {
      "text/plain": [
       "7"
      ]
     },
     "execution_count": 20,
     "metadata": {},
     "output_type": "execute_result"
    }
   ],
   "source": [
    "msg.count(' ')"
   ]
  },
  {
   "cell_type": "code",
   "execution_count": 21,
   "metadata": {},
   "outputs": [
    {
     "name": "stdout",
     "output_type": "stream",
     "text": [
      "The final empire\n",
      "The well of ascension\n",
      "The hero of ages\n"
     ]
    }
   ],
   "source": [
    "books = ['The final empire', 'The well of ascension', 'The hero of ages']\n",
    "for book in books:\n",
    "    print(book) "
   ]
  },
  {
   "cell_type": "code",
   "execution_count": 22,
   "metadata": {},
   "outputs": [
    {
     "name": "stdout",
     "output_type": "stream",
     "text": [
      "0 The final empire\n",
      "1 The well of ascension\n",
      "2 The hero of ages\n"
     ]
    }
   ],
   "source": [
    "idx = 0\n",
    "for book in books:\n",
    "    print(f'{idx} {book}')\n",
    "    idx += 1"
   ]
  },
  {
   "cell_type": "code",
   "execution_count": 24,
   "metadata": {},
   "outputs": [
    {
     "name": "stdout",
     "output_type": "stream",
     "text": [
      "0 The final empire\n",
      "1 The well of ascension\n",
      "2 The hero of ages\n"
     ]
    }
   ],
   "source": [
    "#better code\n",
    "for i in range(len(books)):\n",
    "    print(f'{i} {books[i]}')"
   ]
  },
  {
   "cell_type": "code",
   "execution_count": 23,
   "metadata": {},
   "outputs": [
    {
     "name": "stdout",
     "output_type": "stream",
     "text": [
      "0 The final empire\n",
      "1 The well of ascension\n",
      "2 The hero of ages\n"
     ]
    }
   ],
   "source": [
    "# pythonic code\n",
    "for idx, val in enumerate(books):\n",
    "    print(f'{idx} {val}')"
   ]
  },
  {
   "cell_type": "code",
   "execution_count": 27,
   "metadata": {},
   "outputs": [
    {
     "name": "stdout",
     "output_type": "stream",
     "text": [
      "Alex\n",
      "Alexa\n",
      "Alexis\n",
      "Alexander\n",
      "Bruno\n"
     ]
    }
   ],
   "source": [
    "names = [\n",
    "    'Alex', 'Alexa', 'Alexis', 'Alexander',\n",
    "    'Bruno', 'Brutus', 'Charles', 'Charlie'\n",
    "]\n",
    "for idx, name in enumerate(names):\n",
    "    if idx == 5: break\n",
    "    print(name)"
   ]
  },
  {
   "cell_type": "code",
   "execution_count": null,
   "metadata": {},
   "outputs": [],
   "source": []
  }
 ],
 "metadata": {
  "kernelspec": {
   "display_name": "Python 3.11.4 ('base')",
   "language": "python",
   "name": "python3"
  },
  "language_info": {
   "codemirror_mode": {
    "name": "ipython",
    "version": 3
   },
   "file_extension": ".py",
   "mimetype": "text/x-python",
   "name": "python",
   "nbconvert_exporter": "python",
   "pygments_lexer": "ipython3",
   "version": "3.11.4"
  },
  "orig_nbformat": 4,
  "vscode": {
   "interpreter": {
    "hash": "4fd43f647e67c5bac92e28557b42152749fead6d7b9e8c70c84aca8e8e2f23dd"
   }
  }
 },
 "nbformat": 4,
 "nbformat_minor": 2
}
