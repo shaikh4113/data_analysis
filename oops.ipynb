{
 "cells": [
  {
   "cell_type": "markdown",
   "metadata": {},
   "source": [
    "what to understand\n",
    "- class\n",
    "- object\n",
    "- instance method\n",
    "- constructor(__init__)\n",
    "- data class\n",
    "- inheritance\n",
    "\n",
    "      - overriding method\n",
    "      \n",
    "      - multiple inheritance\n",
    "- operator overloading"
   ]
  },
  {
   "cell_type": "code",
   "execution_count": 1,
   "metadata": {},
   "outputs": [],
   "source": [
    "class One:\n",
    "    pass"
   ]
  },
  {
   "cell_type": "code",
   "execution_count": 2,
   "metadata": {},
   "outputs": [],
   "source": [
    "class Student:\n",
    "    rollno = 0\n",
    "    klass = 0\n",
    "    name = \"\"\n",
    "    def display(self):\n",
    "        print(\"i am a student\")\n",
    "\n"
   ]
  },
  {
   "cell_type": "code",
   "execution_count": 3,
   "metadata": {},
   "outputs": [
    {
     "name": "stdout",
     "output_type": "stream",
     "text": [
      "i am a student\n"
     ]
    }
   ],
   "source": [
    "s1 = Student()\n",
    "s1.name = \"Raj\"\n",
    "s1.klass = 5\n",
    "s1.rollno = 1267\n",
    "s1.display()\n",
    "\n",
    "s2 = Student()\n",
    "s2.name = \"Raju\"\n",
    "s2.klass = 5\n",
    "s2.rollno = 1268\n"
   ]
  },
  {
   "cell_type": "code",
   "execution_count": 3,
   "metadata": {},
   "outputs": [],
   "source": [
    "# __method __ is called magic method (dunder method)\n",
    "class Bottle:\n",
    "    def __init__(self, material, content ,capacity):\n",
    "        self.material = material\n",
    "        self.content = content\n",
    "        self.capacity = capacity\n",
    "\n",
    "    def check(self):\n",
    "        print(f'{self.material} bottle with {self.capacity} ml of {self.content}')"
   ]
  },
  {
   "cell_type": "code",
   "execution_count": 4,
   "metadata": {},
   "outputs": [],
   "source": [
    "b1 = Bottle(\"plastic\",\"water\", 1000)\n",
    "b2 = Bottle(\"glass\",\"water\", 1000)\n",
    "b3 = Bottle(\"steel\",\"water\", 1000)\n",
    "b4 = Bottle(\"glass\",\"red wine\", 1000)\n",
    "b5 = Bottle(\"glass\",\"beer\", 1000)"
   ]
  },
  {
   "cell_type": "code",
   "execution_count": 5,
   "metadata": {},
   "outputs": [
    {
     "name": "stdout",
     "output_type": "stream",
     "text": [
      "plastic water 1000\n"
     ]
    }
   ],
   "source": [
    "print(b1.material, b1.content, b1.capacity)"
   ]
  },
  {
   "cell_type": "code",
   "execution_count": 6,
   "metadata": {},
   "outputs": [
    {
     "name": "stdout",
     "output_type": "stream",
     "text": [
      "plastic bottle with 1000 ml of water\n",
      "glass bottle with 1000 ml of water\n",
      "steel bottle with 1000 ml of water\n"
     ]
    }
   ],
   "source": [
    "b1.check()\n",
    "b2.check()\n",
    "b3.check()"
   ]
  },
  {
   "cell_type": "code",
   "execution_count": 7,
   "metadata": {},
   "outputs": [
    {
     "name": "stdout",
     "output_type": "stream",
     "text": [
      "glass bottle with 1000 ml of Malbec\n"
     ]
    }
   ],
   "source": [
    "b2.content = 'Malbec'\n",
    "b2.check()"
   ]
  },
  {
   "cell_type": "markdown",
   "metadata": {},
   "source": [
    "create a class calculator with following method\n",
    "- multiply\n",
    "- divide\n",
    "- exponent\n",
    "- add\n",
    "- subtract"
   ]
  },
  {
   "cell_type": "code",
   "execution_count": 8,
   "metadata": {},
   "outputs": [],
   "source": [
    "class Calculator:\n",
    "    def multiply(self,a, b):\n",
    "       return a*b\n",
    "    def divide(self,a, b):\n",
    "        return a/b\n",
    "    def exponent(self,a, b):\n",
    "        return a**b\n",
    "    def add(self,a, b):\n",
    "        return a+b\n",
    "    def subtract(self,a ,b):\n",
    "        return a-b\n"
   ]
  },
  {
   "cell_type": "code",
   "execution_count": 9,
   "metadata": {},
   "outputs": [
    {
     "name": "stdout",
     "output_type": "stream",
     "text": [
      "325\n",
      "46\n",
      "15\n"
     ]
    }
   ],
   "source": [
    "c = Calculator()\n",
    "print(c.multiply(13, 25))\n",
    "print(c.add(12, 34))\n",
    "print(c.subtract(20, 5))"
   ]
  },
  {
   "cell_type": "code",
   "execution_count": 10,
   "metadata": {},
   "outputs": [],
   "source": [
    "from dataclasses import dataclass\n"
   ]
  },
  {
   "cell_type": "code",
   "execution_count": 11,
   "metadata": {},
   "outputs": [],
   "source": [
    "@dataclass\n",
    "class Recipe:\n",
    "    name : str\n",
    "    ingredients : list\n",
    "    instructions : str = \"no instruction\""
   ]
  },
  {
   "cell_type": "code",
   "execution_count": 12,
   "metadata": {},
   "outputs": [],
   "source": [
    "@dataclass\n",
    "class BottleX:\n",
    "    material : str\n",
    "    content : str\n",
    "    capacity : int"
   ]
  },
  {
   "cell_type": "code",
   "execution_count": 13,
   "metadata": {},
   "outputs": [],
   "source": [
    "r1 = Recipe(\"Mac n cheese\", [\"mac\", \"cheese\",\"milk\", \"butter\"])\n",
    "r2 = Recipe(\"Mango Shake\",['mango','milk'], instructions=\"mix well\")"
   ]
  },
  {
   "cell_type": "code",
   "execution_count": 14,
   "metadata": {},
   "outputs": [
    {
     "name": "stdout",
     "output_type": "stream",
     "text": [
      "Recipe(name='Mac n cheese', ingredients=['mac', 'cheese', 'milk', 'butter'], instructions='no instruction')\n"
     ]
    }
   ],
   "source": [
    "print(r1)"
   ]
  },
  {
   "cell_type": "code",
   "execution_count": 15,
   "metadata": {},
   "outputs": [
    {
     "name": "stdout",
     "output_type": "stream",
     "text": [
      "Recipe(name='Mango Shake', ingredients=['mango', 'milk'], instructions='mix well')\n"
     ]
    }
   ],
   "source": [
    "print(r2)"
   ]
  },
  {
   "cell_type": "code",
   "execution_count": 16,
   "metadata": {},
   "outputs": [
    {
     "name": "stdout",
     "output_type": "stream",
     "text": [
      "Mac n cheese\n"
     ]
    }
   ],
   "source": [
    "print(r1.name)"
   ]
  },
  {
   "cell_type": "code",
   "execution_count": 17,
   "metadata": {},
   "outputs": [],
   "source": [
    "class Person:\n",
    "    def __init__(self, name, age):\n",
    "        self.age = age\n",
    "        self.name = name\n",
    "    \n",
    "    def info(self):\n",
    "        print('Person details')\n",
    "        print(f'Name: {self.name}')\n",
    "        print(f'Age: {self.age}')\n",
    "        "
   ]
  },
  {
   "cell_type": "code",
   "execution_count": 23,
   "metadata": {},
   "outputs": [],
   "source": [
    "class Student(Person):\n",
    "    def __init__(self, name, age, school, klass):\n",
    "        super().__init__(name, age)\n",
    "        self.school = school\n",
    "        self.klass = klass\n",
    "        "
   ]
  },
  {
   "cell_type": "code",
   "execution_count": 24,
   "metadata": {},
   "outputs": [],
   "source": [
    "class ScienceStudent(Student):\n",
    "    def __init__(self, name, age, school, klass, subject= []):\n",
    "        super().__init__(name, age, school, klass)\n",
    "        self.subject = subject"
   ]
  },
  {
   "cell_type": "code",
   "execution_count": 25,
   "metadata": {},
   "outputs": [
    {
     "name": "stdout",
     "output_type": "stream",
     "text": [
      "Person details\n",
      "Name: ajay\n",
      "Age: 15\n"
     ]
    }
   ],
   "source": [
    "sc1 = ScienceStudent(\"ajay\", 15, \"ABC inter\", 11, ['physics','chemistry','maths'])\n",
    "sc1.info()"
   ]
  },
  {
   "cell_type": "markdown",
   "metadata": {},
   "source": [
    "# Inheritance"
   ]
  },
  {
   "cell_type": "code",
   "execution_count": 6,
   "metadata": {},
   "outputs": [],
   "source": [
    "import sys\n",
    "class SuperList(list):\n",
    "    def gt(self, n):\n",
    "        return [x for x in self if x > n]\n",
    "    def lt(self, n):\n",
    "        return [x for x in self if x < n]\n",
    "    def extract(self, dtype=int):\n",
    "        return [x for x in self if isinstance(x, dtype)]\n",
    "\n",
    "    def index(self, __value, __start= 0, __stop = sys.maxsize) -> int:\n",
    "        if __value in self:\n",
    "         return super().index(__value, __start, __stop)"
   ]
  },
  {
   "cell_type": "code",
   "execution_count": 7,
   "metadata": {},
   "outputs": [
    {
     "name": "stdout",
     "output_type": "stream",
     "text": [
      "['a', 'b']\n",
      "[1, 2, 3, 4, 5]\n",
      "None\n"
     ]
    }
   ],
   "source": [
    "a = SuperList([1,2,3,4,5])\n",
    "a.append(10)\n",
    "a.extend([11,12,13])\n",
    "a.gt(8)\n",
    "b = SuperList([1,2,3,4,5,'a','b'])\n",
    "print(b.extract(str))\n",
    "print(b.extract())\n",
    "print(b.index(10))\n"
   ]
  },
  {
   "cell_type": "code",
   "execution_count": 9,
   "metadata": {},
   "outputs": [
    {
     "name": "stdout",
     "output_type": "stream",
     "text": [
      "True\n",
      "False\n",
      "None\n",
      "Bottle-plastic(water) Bottle-glass(water) Bottle-steel(water)\n",
      "[Bottle-plastic(water), Bottle-glass(water), Bottle-steel(water), Bottle-glass(red wine), Bottle-glass(beer)]\n"
     ]
    }
   ],
   "source": [
    "class Bottle:\n",
    "    def __init__(self, material, content ,capacity):\n",
    "        self.material = material\n",
    "        self.content = content\n",
    "        self.capacity = capacity\n",
    "\n",
    "    def check(self):\n",
    "        print(f'{self.material} bottle with {self.capacity} ml of {self.content}')\n",
    "\n",
    "    def __gt__(self, other):\n",
    "        if isinstance(other, Bottle):\n",
    "            return self.capacity > other.capacity\n",
    "        elif isinstance(other, (int, float)):\n",
    "            return self.capacity > other\n",
    "\n",
    "    def __str__(self) -> str:\n",
    "        return f\"Bottle-{self.material}({self.content})\"\n",
    "\n",
    "    def __repr__(self) -> str:\n",
    "        return f\"Bottle-{self.material}({self.content})\"\n",
    "\n",
    "b1 = Bottle(\"plastic\",\"water\", 1000)\n",
    "b2 = Bottle(\"glass\",\"water\", 500)\n",
    "b3 = Bottle(\"steel\",\"water\", 2000)\n",
    "b4 = Bottle(\"glass\",\"red wine\", 1000)\n",
    "b5 = Bottle(\"glass\",\"beer\", 1000)\n",
    "\n",
    "print(b1 > b2)\n",
    "print(b1 > 1500)\n",
    "print(b1 > 'a')\n",
    "print(b1, b2, b3)\n",
    "bottles = [b1, b2, b3, b4, b5]\n",
    "print(bottles)"
   ]
  },
  {
   "cell_type": "code",
   "execution_count": 1,
   "metadata": {},
   "outputs": [
    {
     "data": {
      "text/plain": [
       "'*walking*'"
      ]
     },
     "execution_count": 1,
     "metadata": {},
     "output_type": "execute_result"
    }
   ],
   "source": [
    "class Dog:\n",
    "    def walk(self):\n",
    "        return \"*walking*\"\n",
    "    def speak(self):\n",
    "        return \"Woof!\"\n",
    "class JackRussellTerrier(Dog):\n",
    "    def speak(self):\n",
    "        return \"Arff!\"\n",
    "bobo = JackRussellTerrier()\n",
    "bobo.walk()"
   ]
  },
  {
   "cell_type": "code",
   "execution_count": 2,
   "metadata": {},
   "outputs": [],
   "source": [
    "class Dog:\n",
    "    def __init__(self, name, age):\n",
    "        self.name = name\n",
    "        self.age = age\n",
    "\n",
    "class JackRussellTerrier(Dog):\n",
    "    pass\n",
    "\n",
    "class Dachshund(Dog):\n",
    "    pass\n",
    "\n",
    "class Bulldog(Dog):\n",
    "    pass\n",
    "\n",
    "miles = JackRussellTerrier(\"Miles\", 4)\n",
    "buddy = Dachshund(\"Buddy\", 9)\n",
    "jack = Bulldog(\"Jack\", 3)\n",
    "jim = Bulldog(\"Jim\", 5)"
   ]
  },
  {
   "cell_type": "code",
   "execution_count": 3,
   "metadata": {},
   "outputs": [
    {
     "data": {
      "text/plain": [
       "False"
      ]
     },
     "execution_count": 3,
     "metadata": {},
     "output_type": "execute_result"
    }
   ],
   "source": [
    "isinstance(miles, Bulldog)"
   ]
  },
  {
   "cell_type": "code",
   "execution_count": 4,
   "metadata": {},
   "outputs": [
    {
     "data": {
      "text/plain": [
       "False"
      ]
     },
     "execution_count": 4,
     "metadata": {},
     "output_type": "execute_result"
    }
   ],
   "source": [
    "isinstance(buddy, Bulldog)"
   ]
  },
  {
   "cell_type": "code",
   "execution_count": 5,
   "metadata": {},
   "outputs": [
    {
     "data": {
      "text/plain": [
       "False"
      ]
     },
     "execution_count": 5,
     "metadata": {},
     "output_type": "execute_result"
    }
   ],
   "source": [
    "isinstance(jack, Dachshund)"
   ]
  },
  {
   "cell_type": "code",
   "execution_count": 6,
   "metadata": {},
   "outputs": [
    {
     "data": {
      "text/plain": [
       "True"
      ]
     },
     "execution_count": 6,
     "metadata": {},
     "output_type": "execute_result"
    }
   ],
   "source": [
    "isinstance(miles, Dog)"
   ]
  },
  {
   "cell_type": "code",
   "execution_count": 7,
   "metadata": {},
   "outputs": [
    {
     "data": {
      "text/plain": [
       "True"
      ]
     },
     "execution_count": 7,
     "metadata": {},
     "output_type": "execute_result"
    }
   ],
   "source": [
    "isinstance(jack, Dog)"
   ]
  },
  {
   "cell_type": "code",
   "execution_count": 1,
   "metadata": {},
   "outputs": [
    {
     "name": "stdout",
     "output_type": "stream",
     "text": [
      "orange\n"
     ]
    }
   ],
   "source": [
    "class Fish:\n",
    "    def __init__(self, name, color, species) -> None:\n",
    "        self.name = name\n",
    "        self.color = color\n",
    "        self.species = species\n",
    "\n",
    "f1 = Fish('nemo', 'orange','clown fish')\n",
    "print(f1.color)"
   ]
  },
  {
   "cell_type": "code",
   "execution_count": 2,
   "metadata": {},
   "outputs": [
    {
     "name": "stdout",
     "output_type": "stream",
     "text": [
      "Fish(name='nemo', color='orange', species='clown fish')\n",
      "Fish(name='dory', color='blue', species='blue tang')\n",
      "Fish(name='bruce', color='white', species='unknown')\n"
     ]
    }
   ],
   "source": [
    "from dataclasses import dataclass\n",
    "@dataclass\n",
    "class Fish:\n",
    "    name : str \n",
    "    color : str\n",
    "    species : str = \"unknown\"\n",
    "\n",
    "f1 = Fish('nemo','orange','clown fish')\n",
    "f2 = Fish('dory','blue','blue tang')\n",
    "f3 = Fish('bruce','white')\n",
    "print(f1)\n",
    "print(f2)\n",
    "print(f3)"
   ]
  },
  {
   "cell_type": "code",
   "execution_count": 4,
   "metadata": {},
   "outputs": [],
   "source": [
    "class Item:\n",
    "    def __init__(self, name, weight) -> None:\n",
    "        self.name = name\n",
    "        self.weight = weight\n",
    "\n",
    "class SpecialItem(Item):\n",
    "    def __init__(self, name, weight, speciality) -> None:\n",
    "        super().__init__(name, weight)\n",
    "        self.speciality = speciality\n",
    "\n",
    "normal_item = Item(\"Item One\", 10)\n",
    "speciaal_item = SpecialItem(\"Item Two\", 6, \"light weight\")"
   ]
  },
  {
   "cell_type": "code",
   "execution_count": null,
   "metadata": {},
   "outputs": [],
   "source": []
  }
 ],
 "metadata": {
  "kernelspec": {
   "display_name": "Python 3.11.4 ('base')",
   "language": "python",
   "name": "python3"
  },
  "language_info": {
   "codemirror_mode": {
    "name": "ipython",
    "version": 3
   },
   "file_extension": ".py",
   "mimetype": "text/x-python",
   "name": "python",
   "nbconvert_exporter": "python",
   "pygments_lexer": "ipython3",
   "version": "3.11.5"
  },
  "orig_nbformat": 4,
  "vscode": {
   "interpreter": {
    "hash": "4fd43f647e67c5bac92e28557b42152749fead6d7b9e8c70c84aca8e8e2f23dd"
   }
  }
 },
 "nbformat": 4,
 "nbformat_minor": 2
}
