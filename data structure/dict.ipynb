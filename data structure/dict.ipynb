{
 "cells": [
  {
   "cell_type": "code",
   "execution_count": 1,
   "metadata": {},
   "outputs": [],
   "source": [
    "x = {\n",
    "    'brand':'Mahindra',\n",
    "    'model':'XUV',\n",
    "    'series':'500',\n",
    "    'type':'Diesel',\n",
    "    'fuel capacity':'30',\n",
    "    'mileage':'10',\n",
    "    'color':'white',\n",
    "    'is_4wd': True,\n",
    "    'colors': ['red','white','black']\n",
    "}"
   ]
  },
  {
   "cell_type": "code",
   "execution_count": 3,
   "metadata": {},
   "outputs": [],
   "source": [
    "info = {} # empty dict"
   ]
  },
  {
   "cell_type": "markdown",
   "metadata": {},
   "source": [
    "- add items\n",
    "- remove items\n",
    "- update items\n",
    "- traverse items"
   ]
  },
  {
   "cell_type": "markdown",
   "metadata": {},
   "source": [
    "to add data \n",
    "\n",
    "`dict['new_key'] = new_value`"
   ]
  },
  {
   "cell_type": "code",
   "execution_count": 5,
   "metadata": {},
   "outputs": [
    {
     "name": "stdout",
     "output_type": "stream",
     "text": [
      "{'first name': 'Henry'}\n"
     ]
    }
   ],
   "source": [
    "info['first name'] = 'Henry'\n",
    "print(info)\n",
    " "
   ]
  },
  {
   "cell_type": "code",
   "execution_count": 6,
   "metadata": {},
   "outputs": [],
   "source": [
    "info['last name'] = 'sugar'\n",
    "info['age'] = '45'\n",
    "info['city'] = 'New york'"
   ]
  },
  {
   "cell_type": "markdown",
   "metadata": {},
   "source": [
    "how to update data\n",
    "\n",
    "`dict['existing_key'] = new_value`"
   ]
  },
  {
   "cell_type": "code",
   "execution_count": 10,
   "metadata": {},
   "outputs": [
    {
     "name": "stdout",
     "output_type": "stream",
     "text": [
      "{'first name': 'Henry', 'last name': 'sugar', 'age': '45', 'city': 'london'}\n"
     ]
    }
   ],
   "source": [
    "info['city'] = 'london'\n",
    "print(info)"
   ]
  },
  {
   "cell_type": "markdown",
   "metadata": {},
   "source": [
    "extract keys and values\n",
    "\n",
    "`dict.keys()`\n",
    "\n",
    "`dict.values()`\n",
    "\n",
    "`dict.items()`\n"
   ]
  },
  {
   "cell_type": "code",
   "execution_count": 11,
   "metadata": {},
   "outputs": [
    {
     "data": {
      "text/plain": [
       "dict_keys(['first name', 'last name', 'age', 'city'])"
      ]
     },
     "execution_count": 11,
     "metadata": {},
     "output_type": "execute_result"
    }
   ],
   "source": [
    "info.keys()"
   ]
  },
  {
   "cell_type": "code",
   "execution_count": 12,
   "metadata": {},
   "outputs": [
    {
     "data": {
      "text/plain": [
       "dict_values(['Henry', 'sugar', '45', 'london'])"
      ]
     },
     "execution_count": 12,
     "metadata": {},
     "output_type": "execute_result"
    }
   ],
   "source": [
    "info.values()"
   ]
  },
  {
   "cell_type": "code",
   "execution_count": 13,
   "metadata": {},
   "outputs": [
    {
     "data": {
      "text/plain": [
       "dict_items([('first name', 'Henry'), ('last name', 'sugar'), ('age', '45'), ('city', 'london')])"
      ]
     },
     "execution_count": 13,
     "metadata": {},
     "output_type": "execute_result"
    }
   ],
   "source": [
    "info.items()"
   ]
  },
  {
   "cell_type": "markdown",
   "metadata": {},
   "source": [
    "fetch data from dict\n",
    "\n",
    "`dict['key'] # throws error if key does not exist`\n",
    "\n",
    "`dict.get('key') # returns none if key does not exist`"
   ]
  },
  {
   "cell_type": "code",
   "execution_count": 14,
   "metadata": {},
   "outputs": [
    {
     "data": {
      "text/plain": [
       "'Mahindra'"
      ]
     },
     "execution_count": 14,
     "metadata": {},
     "output_type": "execute_result"
    }
   ],
   "source": [
    "x['brand']"
   ]
  },
  {
   "cell_type": "code",
   "execution_count": 18,
   "metadata": {},
   "outputs": [
    {
     "name": "stdout",
     "output_type": "stream",
     "text": [
      "10\n",
      "['red', 'white', 'black']\n"
     ]
    },
    {
     "ename": "KeyError",
     "evalue": "'price'",
     "output_type": "error",
     "traceback": [
      "\u001b[0;31m---------------------------------------------------------------------------\u001b[0m",
      "\u001b[0;31mKeyError\u001b[0m                                  Traceback (most recent call last)",
      "Cell \u001b[0;32mIn[18], line 3\u001b[0m\n\u001b[1;32m      1\u001b[0m \u001b[38;5;28mprint\u001b[39m(x[\u001b[38;5;124m'\u001b[39m\u001b[38;5;124mmileage\u001b[39m\u001b[38;5;124m'\u001b[39m])\n\u001b[1;32m      2\u001b[0m \u001b[38;5;28mprint\u001b[39m(x[\u001b[38;5;124m'\u001b[39m\u001b[38;5;124mcolors\u001b[39m\u001b[38;5;124m'\u001b[39m])\n\u001b[0;32m----> 3\u001b[0m \u001b[38;5;28mprint\u001b[39m(x[\u001b[38;5;124m'\u001b[39m\u001b[38;5;124mprice\u001b[39m\u001b[38;5;124m'\u001b[39m])\n",
      "\u001b[0;31mKeyError\u001b[0m: 'price'"
     ]
    }
   ],
   "source": [
    "print(x['mileage'])\n",
    "print(x['colors'])\n",
    "print(x['price'])  # gives key erroe"
   ]
  },
  {
   "cell_type": "code",
   "execution_count": 17,
   "metadata": {},
   "outputs": [
    {
     "name": "stdout",
     "output_type": "stream",
     "text": [
      "Mahindra\n",
      "XUV\n",
      "['red', 'white', 'black']\n",
      "None\n"
     ]
    }
   ],
   "source": [
    "print(x.get('brand'))\n",
    "print(x.get('model'))\n",
    "print(x.get('colors'))\n",
    "print(x.get('price'))\n"
   ]
  },
  {
   "cell_type": "markdown",
   "metadata": {},
   "source": [
    "traversing a dict"
   ]
  },
  {
   "cell_type": "code",
   "execution_count": 19,
   "metadata": {},
   "outputs": [
    {
     "name": "stdout",
     "output_type": "stream",
     "text": [
      "brand\n",
      "model\n",
      "series\n",
      "type\n",
      "fuel capacity\n",
      "mileage\n",
      "color\n",
      "is_4wd\n",
      "colors\n"
     ]
    }
   ],
   "source": [
    "for i in x:\n",
    "    print(i)  # print keys"
   ]
  },
  {
   "cell_type": "code",
   "execution_count": 20,
   "metadata": {},
   "outputs": [
    {
     "name": "stdout",
     "output_type": "stream",
     "text": [
      "Mahindra\n",
      "XUV\n",
      "500\n",
      "Diesel\n",
      "30\n",
      "10\n",
      "white\n",
      "True\n",
      "['red', 'white', 'black']\n"
     ]
    }
   ],
   "source": [
    "for i in x:\n",
    "    print(x[i]) # print values"
   ]
  },
  {
   "cell_type": "code",
   "execution_count": 21,
   "metadata": {},
   "outputs": [
    {
     "name": "stdout",
     "output_type": "stream",
     "text": [
      "brand Mahindra\n",
      "model XUV\n",
      "series 500\n",
      "type Diesel\n",
      "fuel capacity 30\n",
      "mileage 10\n",
      "color white\n",
      "is_4wd True\n",
      "colors ['red', 'white', 'black']\n"
     ]
    }
   ],
   "source": [
    "for i in x:\n",
    "    print(i, x[i])  # print keys and values"
   ]
  },
  {
   "cell_type": "code",
   "execution_count": 22,
   "metadata": {},
   "outputs": [
    {
     "name": "stdout",
     "output_type": "stream",
     "text": [
      "brand --> Mahindra\n",
      "model --> XUV\n",
      "series --> 500\n",
      "type --> Diesel\n",
      "fuel capacity --> 30\n",
      "mileage --> 10\n",
      "color --> white\n",
      "is_4wd --> True\n",
      "colors --> ['red', 'white', 'black']\n"
     ]
    }
   ],
   "source": [
    "# best way to iterate over a dict\n",
    "for k, v in x.items():\n",
    "    print(k, '-->', v)"
   ]
  },
  {
   "cell_type": "code",
   "execution_count": 24,
   "metadata": {},
   "outputs": [],
   "source": [
    "data = {\n",
    "\"sol_keys\": [],\n",
    "\"validity_checks\": {\n",
    "\"1219\": {\n",
    "\"AT\": {\n",
    "\"sol_hours_with_data\": [\n",
    "6,\n",
    "7,\n",
    "8,\n",
    "9,\n",
    "10,\n",
    "11,\n",
    "12\n",
    "],\n",
    "\"valid\": False\n",
    "},\n",
    "\"HWS\": {\n",
    "\"sol_hours_with_data\": [\n",
    "6,\n",
    "7,\n",
    "8,\n",
    "9,\n",
    "10,\n",
    "11,\n",
    "12\n",
    "],\n",
    "\"valid\": False\n",
    "},\n",
    "\"PRE\": {\n",
    "\"sol_hours_with_data\": [\n",
    "6,\n",
    "7,\n",
    "8,\n",
    "9,\n",
    "10,\n",
    "11,\n",
    "12\n",
    "],\n",
    "\"valid\": False\n",
    "},\n",
    "\"WD\": {\n",
    "\"sol_hours_with_data\": [\n",
    "6,\n",
    "7,\n",
    "8,\n",
    "9,\n",
    "10,\n",
    "11,\n",
    "12\n",
    "],\n",
    "\"valid\": False\n",
    "}\n",
    "},\n",
    "\"sol_hours_required\": 18,\n",
    "\"sols_checked\": [\n",
    "\"1219\"\n",
    "]\n",
    "}\n",
    "}"
   ]
  },
  {
   "cell_type": "code",
   "execution_count": 28,
   "metadata": {},
   "outputs": [
    {
     "name": "stdout",
     "output_type": "stream",
     "text": [
      "sol_keys --> []\n",
      "validity_checks --> {'1219': {'AT': {'sol_hours_with_data': [6, 7, 8, 9, 10, 11, 12], 'valid': False}, 'HWS': {'sol_hours_with_data': [6, 7, 8, 9, 10, 11, 12], 'valid': False}, 'PRE': {'sol_hours_with_data': [6, 7, 8, 9, 10, 11, 12], 'valid': False}, 'WD': {'sol_hours_with_data': [6, 7, 8, 9, 10, 11, 12], 'valid': False}}, 'sol_hours_required': 18, 'sols_checked': ['1219']}\n",
      "1219 --> {'AT': {'sol_hours_with_data': [6, 7, 8, 9, 10, 11, 12], 'valid': False}, 'HWS': {'sol_hours_with_data': [6, 7, 8, 9, 10, 11, 12], 'valid': False}, 'PRE': {'sol_hours_with_data': [6, 7, 8, 9, 10, 11, 12], 'valid': False}, 'WD': {'sol_hours_with_data': [6, 7, 8, 9, 10, 11, 12], 'valid': False}}\n",
      "AT --> {'sol_hours_with_data': [6, 7, 8, 9, 10, 11, 12], 'valid': False}\n",
      "HWS --> {'sol_hours_with_data': [6, 7, 8, 9, 10, 11, 12], 'valid': False}\n",
      "PRE --> {'sol_hours_with_data': [6, 7, 8, 9, 10, 11, 12], 'valid': False}\n",
      "WD --> {'sol_hours_with_data': [6, 7, 8, 9, 10, 11, 12], 'valid': False}\n",
      "sol_hours_required --> 18\n",
      "sols_checked --> ['1219']\n"
     ]
    }
   ],
   "source": [
    "for k, v in data.items():\n",
    "    print(k, '-->', v)\n",
    "    if isinstance(v, dict):\n",
    "        for k1, v1 in v.items():\n",
    "            print(k1, '-->', v1)\n",
    "            if isinstance(v1, dict):\n",
    "               for k2, v2 in v1.items():\n",
    "                   print(k2, v2)"
   ]
  },
  {
   "cell_type": "code",
   "execution_count": 30,
   "metadata": {},
   "outputs": [
    {
     "name": "stdout",
     "output_type": "stream",
     "text": [
      "- sol_keys\n",
      "\t []\n",
      "- validity_checks\n",
      "- 1219\n",
      "- AT\n",
      "- sol_hours_with_data\n",
      "\t [6, 7, 8, 9, 10, 11, 12]\n",
      "- valid\n",
      "\t False\n",
      "- HWS\n",
      "- sol_hours_with_data\n",
      "\t [6, 7, 8, 9, 10, 11, 12]\n",
      "- valid\n",
      "\t False\n",
      "- PRE\n",
      "- sol_hours_with_data\n",
      "\t [6, 7, 8, 9, 10, 11, 12]\n",
      "- valid\n",
      "\t False\n",
      "- WD\n",
      "- sol_hours_with_data\n",
      "\t [6, 7, 8, 9, 10, 11, 12]\n",
      "- valid\n",
      "\t False\n",
      "- sol_hours_required\n",
      "\t 18\n",
      "- sols_checked\n",
      "\t ['1219']\n"
     ]
    }
   ],
   "source": [
    "# recursive finction\n",
    "def extract(d):\n",
    "    for k, v in d.items():\n",
    "        print(f\"- {k}\")\n",
    "        if isinstance(v, dict):\n",
    "            extract(v)\n",
    "        else:\n",
    "            print('\\t', v)\n",
    "\n",
    "extract(data)"
   ]
  },
  {
   "cell_type": "code",
   "execution_count": null,
   "metadata": {},
   "outputs": [],
   "source": []
  }
 ],
 "metadata": {
  "kernelspec": {
   "display_name": "Python 3.11.4 ('base')",
   "language": "python",
   "name": "python3"
  },
  "language_info": {
   "codemirror_mode": {
    "name": "ipython",
    "version": 3
   },
   "file_extension": ".py",
   "mimetype": "text/x-python",
   "name": "python",
   "nbconvert_exporter": "python",
   "pygments_lexer": "ipython3",
   "version": "3.11.4"
  },
  "orig_nbformat": 4,
  "vscode": {
   "interpreter": {
    "hash": "4fd43f647e67c5bac92e28557b42152749fead6d7b9e8c70c84aca8e8e2f23dd"
   }
  }
 },
 "nbformat": 4,
 "nbformat_minor": 2
}
