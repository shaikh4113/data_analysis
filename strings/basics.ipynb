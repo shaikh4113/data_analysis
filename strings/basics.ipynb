{
 "cells": [
  {
   "cell_type": "markdown",
   "metadata": {},
   "source": [
    "# what you need to learn\n",
    "- create strings\n",
    "- indexing and slicing\n",
    "- strings methods\n",
    "   - formatting methods\n",
    "   - validation methods\n",
    "   - utility methods\n",
    "- python built-in functions for strings\n",
    "   - len()\n",
    "   - str()\n",
    "   - ord()\n",
    "   - chr()\n",
    "   - eval()\n"
   ]
  },
  {
   "cell_type": "code",
   "execution_count": 11,
   "metadata": {},
   "outputs": [
    {
     "name": "stdout",
     "output_type": "stream",
     "text": [
      "Hello\n",
      "Hello\n",
      "Hello\n",
      "Hello,welcome to \n",
      "                  the world of python\n"
     ]
    }
   ],
   "source": [
    "# defining strings in python\n",
    "# all of the following are equivalent\n",
    "my_string = 'Hello'\n",
    "print(my_string)\n",
    "\n",
    "my_string = \"Hello\"\n",
    "print(my_string)\n",
    "\n",
    "my_string = '''Hello'''\n",
    "print(my_string)\n",
    "\n",
    "\n",
    "#triple quotes string can extend multiple lines\n",
    "my_string = \"\"\"Hello,welcome to \n",
    "                  the world of python\"\"\"\n",
    "print(my_string)"
   ]
  },
  {
   "cell_type": "code",
   "execution_count": 12,
   "metadata": {},
   "outputs": [
    {
     "name": "stdout",
     "output_type": "stream",
     "text": [
      "i\n",
      "p\n",
      "i\n",
      " \n"
     ]
    },
    {
     "ename": "TypeError",
     "evalue": "'str' object is not callable",
     "output_type": "error",
     "traceback": [
      "\u001b[1;31m---------------------------------------------------------------------------\u001b[0m",
      "\u001b[1;31mTypeError\u001b[0m                                 Traceback (most recent call last)",
      "\u001b[1;32mc:\\Users\\DELL\\OneDrive\\2023-SEP--PY-DS-master\\2023-SEP--PY-DS-master\\strings\\basics.ipynb Cell 3\u001b[0m line \u001b[0;36m6\n\u001b[0;32m      <a href='vscode-notebook-cell:/c%3A/Users/DELL/OneDrive/2023-SEP--PY-DS-master/2023-SEP--PY-DS-master/strings/basics.ipynb#W2sZmlsZQ%3D%3D?line=3'>4</a>\u001b[0m \u001b[39mprint\u001b[39m(x[\u001b[39m-\u001b[39m\u001b[39m3\u001b[39m])\n\u001b[0;32m      <a href='vscode-notebook-cell:/c%3A/Users/DELL/OneDrive/2023-SEP--PY-DS-master/2023-SEP--PY-DS-master/strings/basics.ipynb#W2sZmlsZQ%3D%3D?line=4'>5</a>\u001b[0m \u001b[39mprint\u001b[39m(x[\u001b[39m4\u001b[39m])\n\u001b[1;32m----> <a href='vscode-notebook-cell:/c%3A/Users/DELL/OneDrive/2023-SEP--PY-DS-master/2023-SEP--PY-DS-master/strings/basics.ipynb#W2sZmlsZQ%3D%3D?line=5'>6</a>\u001b[0m \u001b[39mprint\u001b[39m(x(\u001b[39m0\u001b[39;49m))\n\u001b[0;32m      <a href='vscode-notebook-cell:/c%3A/Users/DELL/OneDrive/2023-SEP--PY-DS-master/2023-SEP--PY-DS-master/strings/basics.ipynb#W2sZmlsZQ%3D%3D?line=6'>7</a>\u001b[0m \u001b[39mprint\u001b[39m(x[\u001b[39m6\u001b[39m])\n",
      "\u001b[1;31mTypeError\u001b[0m: 'str' object is not callable"
     ]
    }
   ],
   "source": [
    "x = \"digi podium\"\n",
    "print(x[1])\n",
    "print(x[5])\n",
    "print(x[-3])\n",
    "print(x[4])\n",
    "print(x(0))\n",
    "print(x[6])"
   ]
  },
  {
   "cell_type": "code",
   "execution_count": 13,
   "metadata": {},
   "outputs": [
    {
     "name": "stdout",
     "output_type": "stream",
     "text": [
      "str =  digipodium\n",
      "str[0] =  d\n",
      "str[1] =  i\n",
      "str[-1] =  m\n",
      "str[-2] =  u\n",
      "str[-5] =  o\n"
     ]
    }
   ],
   "source": [
    "# Accessing string character in python\n",
    "str = 'digipodium'\n",
    "print('str = ', str)\n",
    "\n",
    "#first character\n",
    "print('str[0] = ', str[0])\n",
    "\n",
    "#second character\n",
    "print('str[1] = ', str[1])\n",
    "\n",
    "#last character\n",
    "print('str[-1] = ', str[-1])\n",
    "\n",
    "#second last character\n",
    "print('str[-2] = ', str[-2])\n",
    "\n",
    "#middele character\n",
    "print('str[-5] = ', str[-5])"
   ]
  },
  {
   "cell_type": "code",
   "execution_count": 4,
   "metadata": {},
   "outputs": [
    {
     "name": "stdout",
     "output_type": "stream",
     "text": [
      "pod\n",
      "pod\n",
      "digipodium\n"
     ]
    }
   ],
   "source": [
    "x = 'digipodium'\n",
    "slice1 = x[4:7]\n",
    "print(slice1)\n",
    "\n",
    "print(x[4:7])\n",
    "print(x[0:10])\n"
   ]
  },
  {
   "cell_type": "code",
   "execution_count": 20,
   "metadata": {},
   "outputs": [
    {
     "name": "stdout",
     "output_type": "stream",
     "text": [
      "Vijay\n",
      "Vijay\n",
      "deenanath \n",
      "chauhan\n"
     ]
    }
   ],
   "source": [
    "name = \"Vijay deenanath chauhan\"\n",
    "print(name[0:5])\n",
    "print(name[:5])\n",
    "\n",
    "print(name[6:16])\n",
    "print(name[16:23])"
   ]
  },
  {
   "cell_type": "code",
   "execution_count": 18,
   "metadata": {},
   "outputs": [
    {
     "name": "stdout",
     "output_type": "stream",
     "text": [
      "chauhan\n"
     ]
    }
   ],
   "source": [
    "print(name[-7:])\n"
   ]
  },
  {
   "cell_type": "code",
   "execution_count": 19,
   "metadata": {},
   "outputs": [
    {
     "name": "stdout",
     "output_type": "stream",
     "text": [
      "chauhan\n"
     ]
    }
   ],
   "source": [
    "print(name[16:])"
   ]
  },
  {
   "cell_type": "code",
   "execution_count": 22,
   "metadata": {},
   "outputs": [
    {
     "name": "stdout",
     "output_type": "stream",
     "text": [
      "35000\n"
     ]
    }
   ],
   "source": [
    "price = 'Rs.35000 only'\n",
    "print(price[3:-5])"
   ]
  },
  {
   "cell_type": "code",
   "execution_count": 23,
   "metadata": {},
   "outputs": [
    {
     "name": "stdout",
     "output_type": "stream",
     "text": [
      "35000\n"
     ]
    }
   ],
   "source": [
    "print(price[3:3+5])"
   ]
  },
  {
   "cell_type": "code",
   "execution_count": 24,
   "metadata": {},
   "outputs": [
    {
     "name": "stdout",
     "output_type": "stream",
     "text": [
      "peare\n",
      "Shakes\n",
      "Will\n",
      "liam\n",
      "r\n",
      "William\n",
      "spear\n"
     ]
    }
   ],
   "source": [
    "word = \"William Shakespeare\"\n",
    "print(word[-5:])\n",
    "print(word[-11:-5])\n",
    "print(word[:4])\n",
    "print(word[3:7])\n",
    "print(word[-2:-1])\n",
    "print(word[:7])\n",
    "print(word[-6:-1])"
   ]
  },
  {
   "cell_type": "markdown",
   "metadata": {},
   "source": [
    "slicing syntax\n",
    "\n",
    "`var[start:stop]`\n",
    "\n",
    "`var[start:stop:step]`"
   ]
  },
  {
   "cell_type": "code",
   "execution_count": 27,
   "metadata": {},
   "outputs": [
    {
     "name": "stdout",
     "output_type": "stream",
     "text": [
      "Willi\n"
     ]
    }
   ],
   "source": [
    "print(word[:7-2])"
   ]
  },
  {
   "cell_type": "code",
   "execution_count": 33,
   "metadata": {},
   "outputs": [
    {
     "name": "stdout",
     "output_type": "stream",
     "text": [
      "WlimSaepae\n"
     ]
    }
   ],
   "source": [
    "print(word[:: 2])"
   ]
  },
  {
   "cell_type": "code",
   "execution_count": 37,
   "metadata": {},
   "outputs": [
    {
     "name": "stdout",
     "output_type": "stream",
     "text": [
      "eraepsekahS mailliW\n"
     ]
    }
   ],
   "source": [
    "print(word[::-1])"
   ]
  },
  {
   "cell_type": "code",
   "execution_count": 38,
   "metadata": {},
   "outputs": [
    {
     "name": "stdout",
     "output_type": "stream",
     "text": [
      "nahuahc htananeed yajiV\n"
     ]
    }
   ],
   "source": [
    "print(name[::-1])"
   ]
  },
  {
   "cell_type": "code",
   "execution_count": 39,
   "metadata": {},
   "outputs": [
    {
     "name": "stdout",
     "output_type": "stream",
     "text": [
      "yajiV\n"
     ]
    }
   ],
   "source": [
    "print(name[:5:][::-1][:])"
   ]
  },
  {
   "cell_type": "code",
   "execution_count": 40,
   "metadata": {},
   "outputs": [
    {
     "name": "stdout",
     "output_type": "stream",
     "text": [
      "A\n"
     ]
    }
   ],
   "source": [
    "x = chr(65)\n",
    "print(x)"
   ]
  },
  {
   "cell_type": "code",
   "execution_count": 34,
   "metadata": {},
   "outputs": [
    {
     "name": "stdout",
     "output_type": "stream",
     "text": [
      "ড\n"
     ]
    }
   ],
   "source": [
    "x = chr(2465)\n",
    "print(x)"
   ]
  },
  {
   "cell_type": "code",
   "execution_count": 35,
   "metadata": {},
   "outputs": [
    {
     "name": "stdout",
     "output_type": "stream",
     "text": [
      "き\n",
      "〽\n"
     ]
    }
   ],
   "source": [
    "x = chr(12365)\n",
    "print(x)\n",
    "x = chr(12349)\n",
    "print(x)"
   ]
  },
  {
   "cell_type": "code",
   "execution_count": 43,
   "metadata": {},
   "outputs": [
    {
     "name": "stdout",
     "output_type": "stream",
     "text": [
      "𘇌\n"
     ]
    }
   ],
   "source": [
    "x = chr(98764)\n",
    "print(x)"
   ]
  },
  {
   "cell_type": "code",
   "execution_count": 45,
   "metadata": {},
   "outputs": [
    {
     "name": "stdout",
     "output_type": "stream",
     "text": [
      "譀\n"
     ]
    }
   ],
   "source": [
    "x = chr(35648)\n",
    "print(x)"
   ]
  },
  {
   "cell_type": "code",
   "execution_count": 37,
   "metadata": {},
   "outputs": [
    {
     "name": "stdout",
     "output_type": "stream",
     "text": [
      "65\n",
      "97\n"
     ]
    }
   ],
   "source": [
    "y = ord('A')\n",
    "print(y)\n",
    "z = ord('a')\n",
    "print(z)"
   ]
  },
  {
   "cell_type": "code",
   "execution_count": 39,
   "metadata": {},
   "outputs": [
    {
     "name": "stdout",
     "output_type": "stream",
     "text": [
      "97\n"
     ]
    }
   ],
   "source": [
    "y = ord('a')\n",
    "print(y)"
   ]
  },
  {
   "cell_type": "code",
   "execution_count": 41,
   "metadata": {},
   "outputs": [
    {
     "name": "stdout",
     "output_type": "stream",
     "text": [
      "123\n",
      "123\n"
     ]
    }
   ],
   "source": [
    "y = ord('{')\n",
    "print(y)\n",
    "z = ord ('{')\n",
    "print(z)"
   ]
  },
  {
   "cell_type": "code",
   "execution_count": 42,
   "metadata": {},
   "outputs": [
    {
     "name": "stdout",
     "output_type": "stream",
     "text": [
      "5\n",
      "14\n"
     ]
    }
   ],
   "source": [
    "z = 'hello'\n",
    "print(len(z))\n",
    "y = 'mohammad fazal'\n",
    "print(len(y))"
   ]
  },
  {
   "cell_type": "code",
   "execution_count": 43,
   "metadata": {},
   "outputs": [
    {
     "name": "stdout",
     "output_type": "stream",
     "text": [
      "5\n",
      "13\n"
     ]
    }
   ],
   "source": [
    "print(len('hello'))\n",
    "print(len('advertisement'))"
   ]
  },
  {
   "cell_type": "code",
   "execution_count": 44,
   "metadata": {},
   "outputs": [
    {
     "name": "stdout",
     "output_type": "stream",
     "text": [
      "4\n",
      "11\n"
     ]
    }
   ],
   "source": [
    "size = len(\"hope\")\n",
    "print(size)\n",
    "size = len('divineforce')\n",
    "print(size)"
   ]
  },
  {
   "cell_type": "code",
   "execution_count": 52,
   "metadata": {},
   "outputs": [
    {
     "data": {
      "text/plain": [
       "'hii  therefore'"
      ]
     },
     "execution_count": 52,
     "metadata": {},
     "output_type": "execute_result"
    }
   ],
   "source": [
    "#Concatenation\n",
    "\n",
    "'hi' +' '+ 'there'\n",
    "'hii ' '' ' therefore'"
   ]
  },
  {
   "cell_type": "code",
   "execution_count": 55,
   "metadata": {},
   "outputs": [
    {
     "data": {
      "text/plain": [
       "'  fazal    fazal    fazal    fazal    fazal    fazal    fazal    fazal    fazal    fazal  '"
      ]
     },
     "execution_count": 55,
     "metadata": {},
     "output_type": "execute_result"
    }
   ],
   "source": [
    "#duplicate\n",
    "'A' *5\n",
    "'  fazal  ' *10"
   ]
  },
  {
   "cell_type": "code",
   "execution_count": 56,
   "metadata": {},
   "outputs": [
    {
     "name": "stdout",
     "output_type": "stream",
     "text": [
      "35\n",
      "1000\n"
     ]
    }
   ],
   "source": [
    "x = 10\n",
    "y = 25\n",
    "operation = \"x + y\"\n",
    "print(eval(operation))\n",
    "\n",
    "x = 20 \n",
    "y = 50\n",
    "operation = \"x * y \"\n",
    "print(eval(operation))"
   ]
  },
  {
   "cell_type": "code",
   "execution_count": null,
   "metadata": {},
   "outputs": [],
   "source": []
  }
 ],
 "metadata": {
  "kernelspec": {
   "display_name": "Python 3.11.4 ('base')",
   "language": "python",
   "name": "python3"
  },
  "language_info": {
   "codemirror_mode": {
    "name": "ipython",
    "version": 3
   },
   "file_extension": ".py",
   "mimetype": "text/x-python",
   "name": "python",
   "nbconvert_exporter": "python",
   "pygments_lexer": "ipython3",
   "version": "3.11.5"
  },
  "orig_nbformat": 4,
  "vscode": {
   "interpreter": {
    "hash": "4fd43f647e67c5bac92e28557b42152749fead6d7b9e8c70c84aca8e8e2f23dd"
   }
  }
 },
 "nbformat": 4,
 "nbformat_minor": 2
}
